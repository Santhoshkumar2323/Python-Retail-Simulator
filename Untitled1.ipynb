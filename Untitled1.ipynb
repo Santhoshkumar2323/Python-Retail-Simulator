{
  "nbformat": 4,
  "nbformat_minor": 0,
  "metadata": {
    "colab": {
      "provenance": [],
      "authorship_tag": "ABX9TyNWNdonJX08j6kh6JTYMhTD",
      "include_colab_link": true
    },
    "kernelspec": {
      "name": "python3",
      "display_name": "Python 3"
    },
    "language_info": {
      "name": "python"
    }
  },
  "cells": [
    {
      "cell_type": "markdown",
      "metadata": {
        "id": "view-in-github",
        "colab_type": "text"
      },
      "source": [
        "<a href=\"https://colab.research.google.com/github/Santhoshkumar2323/Python-Retail-Simulator/blob/main/Untitled1.ipynb\" target=\"_parent\"><img src=\"https://colab.research.google.com/assets/colab-badge.svg\" alt=\"Open In Colab\"/></a>"
      ]
    },
    {
      "cell_type": "code",
      "execution_count": null,
      "metadata": {
        "id": "KMrO-AlXnl_b"
      },
      "outputs": [],
      "source": [
        "print(\"hello world !\")"
      ]
    },
    {
      "cell_type": "code",
      "source": [
        "# user age therinchupom\n",
        "age_text=input(\"age\")\n",
        "# age converting into integer\n",
        "age_number=int(age_text)\n",
        "# calculating age after 5 years\n",
        "age_in_5_years=age_number+ 5\n",
        "print(\"In 5 years,you will be\",age_in_5_years,\"years old\")"
      ],
      "metadata": {
        "id": "4KsyHV5K4q1h"
      },
      "execution_count": null,
      "outputs": []
    },
    {
      "cell_type": "code",
      "source": [
        "# get items price as text\n",
        "item_price_text=input(\"price ennada venna sollu\")\n",
        "# convert text to a float\n",
        "item_price=float(item_price_text)\n",
        "#getting quantity as text\n",
        "quantity_text =input(\"enter the quantity\")\n",
        "# convert quantity text to integer\n",
        "quantity=int(quantity_text)\n",
        "#calculate total cost\n",
        "total_cost =item_price*quantity\n",
        "# print the total cost\n",
        "print(\"unnoda motha porul vanthu\",total_cost)"
      ],
      "metadata": {
        "id": "bKDaBhMp5a_e",
        "colab": {
          "base_uri": "https://localhost:8080/"
        },
        "outputId": "a46495cd-4591-47b4-99b7-bc2cb0cd22b5"
      },
      "execution_count": 1,
      "outputs": [
        {
          "output_type": "stream",
          "name": "stdout",
          "text": [
            "price ennada venna sollu40\n",
            "enter the quantity4\n",
            "unnoda motha porul vanthu 160.0\n"
          ]
        }
      ]
    },
    {
      "cell_type": "code",
      "source": [
        "# price\n",
        "product_price=500\n",
        "# name of the product\n",
        "product_name = \"handmade clay\"\n",
        "# sold per hour\n",
        "quantity_sold_per_hour =5\n",
        "print(product_price)\n",
        "print(product_name)\n",
        "print(quantity_sold_per_hour)"
      ],
      "metadata": {
        "id": "UFD2HuUO5pQc"
      },
      "execution_count": null,
      "outputs": []
    },
    {
      "cell_type": "code",
      "source": [
        "# Calculate the subtotal revenue for the first hour\n",
        "revenue_for_first_hour = product_price*quantity_sold_per_hour\n",
        "print('revenue in the first hour =',revenue_for_first_hour)\n",
        "# discount\n",
        "today_discount =0.05\n",
        "discount_amount = revenue_for_first_hour*today_discount\n",
        "print('discount for today=',discount_amount)\n"
      ],
      "metadata": {
        "id": "RTe0dTrz7xFJ"
      },
      "execution_count": null,
      "outputs": []
    },
    {
      "cell_type": "code",
      "source": [
        "# Let's define some string variables for a customer order\n",
        "customer_name = \"Priya Sharma\"\n",
        "order_id = \"INV7890123\"\n",
        "shipping_status = \"Shipped\"\n",
        "\n",
        "# Print a simple order message\n",
        "print(\"Customer:\", customer_name)\n",
        "print(\"Order ID:\", order_id)\n",
        "order_message='hello  ' + str(customer_name ) +  '  this is your id=' + str(order_id )\n",
        "print(order_message)\n"
      ],
      "metadata": {
        "id": "gux6nZun8p1M",
        "colab": {
          "base_uri": "https://localhost:8080/"
        },
        "outputId": "a8327e5d-7b2d-4320-df7b-13df802e3d7a"
      },
      "execution_count": null,
      "outputs": [
        {
          "output_type": "stream",
          "name": "stdout",
          "text": [
            "Customer: Priya Sharma\n",
            "Order ID: INV7890123\n",
            "hello  Priya Sharma  this is your id=INV7890123\n"
          ]
        }
      ]
    },
    {
      "cell_type": "code",
      "source": [
        "# details\n",
        "tshirt_price=550\n",
        "num_tshirts_bought=3\n",
        "customer_name='arjun kumar'\n",
        "customer_city = 'chennai'\n",
        "# subtotal\n",
        "order_subtotal = tshirt_price* num_tshirts_bought\n",
        "# '' is for text so we have not used for number output above\n",
        "greet= 'Happy morning'\n",
        "print(greet)\n",
        "# creating summary\n",
        "summary_message = 'HELLO  ' + str(customer_name) + '  from  '+ str(customer_city) + '  ordered tshirt INR= ' +  str(order_subtotal)\n",
        "print(summary_message)\n",
        "#free shipping\n",
        "if order_subtotal> 1500:\n",
        "  print('congratulations!Your order qualifies for FREE SHIPPING')"
      ],
      "metadata": {
        "id": "E5YEG19zDRU2",
        "colab": {
          "base_uri": "https://localhost:8080/"
        },
        "outputId": "5cfba18d-1273-480a-8e11-4874598f9536"
      },
      "execution_count": null,
      "outputs": [
        {
          "output_type": "stream",
          "name": "stdout",
          "text": [
            "Happy morning\n",
            "HELLO  arjun kumar  from  chennai  ordered tshirt INR= 1650\n",
            "congratulations!Your order qualifies for FREE SHIPPING\n"
          ]
        }
      ]
    },
    {
      "cell_type": "code",
      "source": [
        "# inventory check\n",
        "current_stocks= 7\n",
        "reorder_value=10\n",
        "# we making IF statemnets\n",
        "if current_stocks < reorder_value:\n",
        "  #notice space should be given or else you face indented error\n",
        " print(\"Alert!stock is low.Time for reload more items\")\n",
        "# the line is not true then\n",
        "print(\"---END OF STOCK CHECK---\")"
      ],
      "metadata": {
        "id": "KfUrkdx8PQus",
        "colab": {
          "base_uri": "https://localhost:8080/"
        },
        "outputId": "e6aaba05-bc36-4d16-9f91-be056d705a69"
      },
      "execution_count": null,
      "outputs": [
        {
          "output_type": "stream",
          "name": "stdout",
          "text": [
            "Alert!stock is low.Time for reload more items\n",
            "---END OF STOCK CHECK---\n"
          ]
        }
      ]
    },
    {
      "cell_type": "code",
      "source": [
        "# example for shipping using else\n",
        "order_total=1600\n",
        "free_shipping =1500\n",
        "if order_total>free_shipping:\n",
        "   print ('congrats!Your order qualifies for FREE shipping')\n",
        "else: # if it doesnt satisfies the statement then\n",
        "\n",
        " print('Standard shipping charges apply.Add more items to get free shipping')\n",
        "print('----shipping calculations done---')\n"
      ],
      "metadata": {
        "id": "ygC3N98vVL1A"
      },
      "execution_count": null,
      "outputs": []
    },
    {
      "cell_type": "code",
      "source": [
        "# Asking user query and details\n",
        "customer_name = input('please enter yout name')\n",
        "# greets\n",
        "print(\"Hope you had a good day far\",customer_name + '! welcome to our store')\n",
        "#Ask their preferences\n",
        "customer_query = input('what you looking for?')\n",
        "print('so you looking for'+ customer_query +'.thats great let me check')\n",
        "\n"
      ],
      "metadata": {
        "id": "gdMScP6KZezi"
      },
      "execution_count": null,
      "outputs": []
    },
    {
      "cell_type": "code",
      "source": [
        "# Asking user for product price\n",
        "preffered_price = input('product price')\n",
        "# converting price from string to float\n",
        "price=float(preffered_price)\n",
        "#Asking user for quantity\n",
        "quantity_str= input('enter the quantity purchased')\n",
        "#convert quantity from string to integer\n",
        "quantity=int(quantity_str)\n",
        "# calculations below\n",
        "total_cost= price*quantity\n",
        "print('---orderdetails---')\n",
        "print('price per item: RS.', price)\n",
        "print('quantity:',quantity)\n",
        "print('Total cost: Rs.',total_cost)"
      ],
      "metadata": {
        "colab": {
          "base_uri": "https://localhost:8080/"
        },
        "id": "ML5ckDy9ehpu",
        "outputId": "2abeb6dd-f11f-46f0-eae8-79910e95cbd9"
      },
      "execution_count": null,
      "outputs": [
        {
          "output_type": "stream",
          "name": "stdout",
          "text": [
            "product price33\n",
            "enter the quantity purchased44\n",
            "---orderdetails---\n",
            "price per item: RS. 33.0\n",
            "quantity: 44\n",
            "Total cost: Rs. 1452.0\n"
          ]
        }
      ]
    },
    {
      "cell_type": "code",
      "source": [
        "# Fixed hoursly rates\n",
        "HOURLY_RATE=850\n",
        "DISCOUNT_LIMIT=10000 # using capital letters wont chanage when during program run\n",
        "hours_worked_=input('Enter total hours worked')\n",
        "#  converting input into an integer\n",
        "hours_worked=int(hours_worked_)\n",
        "# calculating the bill befoe discounts\n",
        "base_bill= hours_worked*HOURLY_RATE\n",
        "if base_bill > DISCOUNT_LIMIT:\n",
        "  discount_amount = base_bill* 0.10\n",
        "  final_bill= base_bill - discount_amount\n",
        "  print(f'base bill:Rs.{base_bill:.2f}.Discount applied(10%): Rs.{discount_amount:.2f}. Final bill: Rs.{final_bill:.2f}')\n",
        "else:\n",
        "  final_bill=base_bill\n",
        "  print(f'base bill:Rs.{base_bill:.2f}.No discount applied. Final bill: Rs.{final_bill:.2f}')"
      ],
      "metadata": {
        "colab": {
          "base_uri": "https://localhost:8080/"
        },
        "id": "eJawloN0X-rP",
        "outputId": "12fd6bd4-031b-4700-99d6-91108cf71eac"
      },
      "execution_count": null,
      "outputs": [
        {
          "output_type": "stream",
          "name": "stdout",
          "text": [
            "Enter total hours worked10\n",
            "base bill:Rs.8500.00.No discount applied. Final bill: Rs.8500.00\n"
          ]
        }
      ]
    },
    {
      "cell_type": "code",
      "source": [],
      "metadata": {
        "id": "fPZ-at9tmxNu"
      },
      "execution_count": null,
      "outputs": []
    },
    {
      "cell_type": "code",
      "source": [
        "# project - Intelligent Retail checkout\n",
        "# store information\n",
        "STORE_NAME= 'VAANGA PALAGALAM'\n",
        "STORE_SLOGAN = 'Chennaiyin angam analum bangam'\n",
        "# FIXED product price\n",
        "laptop_price=45000.00\n",
        "smartphone_price =22000.00\n",
        "headphone_price=1500.00\n",
        "# Getting name of customer\n",
        "customer_name=input('please enter your name  ')\n",
        "is_loyalty_member_str= input('Is the cutomer a loyalty program member ? (yes/no): ')\n",
        "# get order quantities # input will text that text is a number so we changing text to number with int code\n",
        "quantity_laptop_str= input('Enter quantity of laptop')\n",
        "quantity_laptop=int(quantity_laptop_str)\n",
        "quantity_smartphone_str= input('Enter quantity of smartphone')\n",
        "quantity_smartphone=int(quantity_smartphone_str)\n",
        "quantity_headphone_str= input('Enter quantity of headphone')\n",
        "quantity_headphone=int(quantity_headphone_str)\n",
        "# calculate subtotal for each item and overall base subtotal\n",
        "subtotal_laptop = quantity_laptop*laptop_price\n",
        "subtotal_smartphone=quantity_smartphone*smartphone_price\n",
        "subtotal_headphone=quantity_headphone*headphone_price\n",
        "subtotal_base=subtotal_laptop+subtotal_smartphone+subtotal_headphone\n",
        "# discounts\n",
        "# first no discount\n",
        "discount_amount=0.0\n",
        "final_bill = subtotal_base\n",
        "# applying discount\n",
        "if subtotal_base > 10000:\n",
        "  # 10% discount for this\n",
        "    discount_percent=0.10\n",
        "    discount_amount = subtotal_base*discount_percent\n",
        "    final_bill= subtotal_base - discount_amount # try to understnd here afterwards\n",
        "    print('Discount applied:10%(for bill > 10000)')\n",
        "elif subtotal_base >= 5000:\n",
        "      # if subtotal is 5000 or more apply 5% discount\n",
        "      discount_percent = 0.05\n",
        "      discount_amount= subtotal_base*discount_percent\n",
        "      final_bill=subtotal_base - discount_amount\n",
        "      print('Discount applied: 5% (for bill >= 5000)')\n",
        "else :\n",
        "      print('NO discount applied(bill < Rs.5000)')\n",
        "\n",
        "# Apply Additional loyalty discount\n",
        "# we going to check if the customer input is yes\n",
        "if is_loyalty_member_str.lower() == 'yes':\n",
        "   # this only run when customer is loyalty member\n",
        "      loyalty_discount_percent=0.02\n",
        "      loyalty_discount_amount= final_bill * loyalty_discount_percent\n",
        "      final_bill=final_bill - loyalty_discount_amount\n",
        "      print('Additionally loyalty Discount Applied : 2%')\n",
        "else:\n",
        "      print('No loyalty Discount Applied')\n",
        "\n",
        " # Generate and printing final bill\n",
        "print('\\n---' + STORE_NAME + '---')\n",
        "print(STORE_SLOGAN)\n",
        "print(\"-------------------------------\")\n",
        "print('customer name:' + customer_name)\n",
        "print('----------------------------------------')\n",
        "# order details\n",
        "print('order details:')\n",
        "print('laptop:' + str(quantity_laptop) + 'x Rs.' + str(laptop_price) + '=Rs.' + str(subtotal_laptop))\n",
        "print(\"Smartphone: \" + str(quantity_smartphone) + \" x Rs.\" + str(smartphone_price) + \" = Rs.\" + str(subtotal_smartphone))\n",
        "print(\"Headphone: \" + str(quantity_headphone) + \" x Rs.\" + str(headphone_price) + \" = Rs.\" + str(subtotal_headphone))\n",
        "print(\"-----------------------------------\")\n",
        "print(\"Base Subtotal: Rs.\" + str(subtotal_base)) # Shows the total before any discounts\n",
        "print(\"Discount Amount: Rs.\" + str(discount_amount)) # Shows the tiered discount amount (will be 0 if no tiered discount)\n",
        "print(\"Loyalty Discount (additional): Rs.\" + str(loyalty_discount_amount)) # Shows the loyalty discount amount (will be 0 if no loyalty discount)\n",
        "print(\"\\n--- FINAL BILL: Rs.\" + str(final_bill) + \" ---\") # The most important line: the final amount to pay!\n",
        "print(\"-----------------------------------\") # A final separator line\n",
        "print(\"Thank you for shopping at \" + STORE_NAME + \"!\") # A closing message\n"
      ],
      "metadata": {
        "id": "Kx_s1qo4m6ki"
      },
      "execution_count": null,
      "outputs": []
    },
    {
      "cell_type": "code",
      "source": [],
      "metadata": {
        "id": "hxOiwM3qnBoe"
      },
      "execution_count": null,
      "outputs": []
    }
  ]
}